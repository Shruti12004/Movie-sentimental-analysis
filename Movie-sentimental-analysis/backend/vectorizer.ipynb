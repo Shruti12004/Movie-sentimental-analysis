{
 "cells": [
  {
   "cell_type": "code",
   "execution_count": 1,
   "id": "539d3e84",
   "metadata": {},
   "outputs": [],
   "source": [
    "import pandas as pd\n",
    "from sklearn.feature_extraction.text import TfidfVectorizer\n",
    "import joblib\n",
    "import os\n"
   ]
  },
  {
   "cell_type": "code",
   "execution_count": 2,
   "id": "b98ed327",
   "metadata": {},
   "outputs": [],
   "source": [
    "input_path = \"backend/data/cleaned_reviews.csv\"\n",
    "output_matrix_path = \"backend/data/vectorized_data.pkl\"\n",
    "output_vectorizer_path = \"backend/data/tfidf_vectorizer.pkl\"\n"
   ]
  },
  {
   "cell_type": "code",
   "execution_count": 20,
   "id": "fc9faf2b",
   "metadata": {},
   "outputs": [
    {
     "name": "stdout",
     "output_type": "stream",
     "text": [
      "Original columns: ['Movie_N', 'cleaned_review', 'Stars']\n",
      " Data loaded and renamed to 'reviews'\n",
      " Number of rows: 5720\n"
     ]
    },
    {
     "data": {
      "text/html": [
       "<div>\n",
       "<style scoped>\n",
       "    .dataframe tbody tr th:only-of-type {\n",
       "        vertical-align: middle;\n",
       "    }\n",
       "\n",
       "    .dataframe tbody tr th {\n",
       "        vertical-align: top;\n",
       "    }\n",
       "\n",
       "    .dataframe thead th {\n",
       "        text-align: right;\n",
       "    }\n",
       "</style>\n",
       "<table border=\"1\" class=\"dataframe\">\n",
       "  <thead>\n",
       "    <tr style=\"text-align: right;\">\n",
       "      <th></th>\n",
       "      <th>Movie_N</th>\n",
       "      <th>reviews</th>\n",
       "      <th>Stars</th>\n",
       "    </tr>\n",
       "  </thead>\n",
       "  <tbody>\n",
       "    <tr>\n",
       "      <th>0</th>\n",
       "      <td>The Old Guard</td>\n",
       "      <td>love concept execution not bad there some crin...</td>\n",
       "      <td>7</td>\n",
       "    </tr>\n",
       "    <tr>\n",
       "      <th>1</th>\n",
       "      <td>The Old Guard</td>\n",
       "      <td>there were just so many clichés cringe naive m...</td>\n",
       "      <td>5</td>\n",
       "    </tr>\n",
       "    <tr>\n",
       "      <th>2</th>\n",
       "      <td>The Old Guard</td>\n",
       "      <td>actors all good well thats story childlike dir...</td>\n",
       "      <td>5</td>\n",
       "    </tr>\n",
       "    <tr>\n",
       "      <th>3</th>\n",
       "      <td>The Old Guard</td>\n",
       "      <td>my mind kept referring back austin powers badd...</td>\n",
       "      <td>9</td>\n",
       "    </tr>\n",
       "    <tr>\n",
       "      <th>4</th>\n",
       "      <td>The Old Guard</td>\n",
       "      <td>london scenes end were just bizarre empty stre...</td>\n",
       "      <td>5</td>\n",
       "    </tr>\n",
       "  </tbody>\n",
       "</table>\n",
       "</div>"
      ],
      "text/plain": [
       "         Movie_N                                            reviews Stars\n",
       "0  The Old Guard  love concept execution not bad there some crin...     7\n",
       "1  The Old Guard  there were just so many clichés cringe naive m...     5\n",
       "2  The Old Guard  actors all good well thats story childlike dir...     5\n",
       "3  The Old Guard  my mind kept referring back austin powers badd...     9\n",
       "4  The Old Guard  london scenes end were just bizarre empty stre...     5"
      ]
     },
     "metadata": {},
     "output_type": "display_data"
    }
   ],
   "source": [
    "import os\n",
    "import pandas as pd\n",
    "\n",
    "# actual file path\n",
    "input_path = r\"C:\\Users\\shrut\\OneDrive\\Desktop\\movie_sentiment_analysis\\Movie-sentimental-analysis\\backend\\data\\cleaned_reviews.csv\"\n",
    "\n",
    "# Load and rename column\n",
    "if os.path.exists(input_path):\n",
    "    df = pd.read_csv(input_path)\n",
    "    print(\"Original columns:\", df.columns.tolist())\n",
    "\n",
    "    if \"cleaned_review\" not in df.columns:\n",
    "        raise ValueError(\"'cleaned_review' column is missing in the CSV file.\")\n",
    "    \n",
    "    # Rename to 'reviews' for use in vectorization\n",
    "    df.rename(columns={\"cleaned_review\": \"reviews\"}, inplace=True)\n",
    "    \n",
    "    print(\" Data loaded and renamed to 'reviews'\")\n",
    "    print(\" Number of rows:\", len(df))\n",
    "    display(df.head())\n",
    "else:\n",
    "    raise FileNotFoundError(f\" File not found: {input_path}\")"
   ]
  },
  {
   "cell_type": "code",
   "execution_count": 23,
   "id": "0f56f574",
   "metadata": {},
   "outputs": [
    {
     "name": "stdout",
     "output_type": "stream",
     "text": [
      "First 5 values in df['reviews']:\n",
      " 0    love concept execution not bad there some crin...\n",
      "1    there were just so many clichés cringe naive m...\n",
      "2    actors all good well thats story childlike dir...\n",
      "3    my mind kept referring back austin powers badd...\n",
      "4    london scenes end were just bizarre empty stre...\n",
      "Name: reviews, dtype: object\n",
      "\n",
      "Data type: object\n",
      "\n",
      "Total reviews: 5720\n"
     ]
    }
   ],
   "source": [
    "print(\"First 5 values in df['reviews']:\\n\", df[\"reviews\"].head())\n",
    "print(\"\\nData type:\", df[\"reviews\"].dtype)\n",
    "print(\"\\nTotal reviews:\", len(df))\n"
   ]
  },
  {
   "cell_type": "code",
   "execution_count": 24,
   "id": "3bc7c96e",
   "metadata": {},
   "outputs": [
    {
     "name": "stdout",
     "output_type": "stream",
     "text": [
      "✅ Cleaned reviews: 5714\n",
      "Example: love concept execution not bad there some cringy forced parts but music really annoys me doesnt fit tone film all\n"
     ]
    }
   ],
   "source": [
    "# Convert to string, strip whitespace\n",
    "df[\"reviews\"] = df[\"reviews\"].astype(str).str.strip()\n",
    "\n",
    "# Remove empty strings and NaNs\n",
    "df = df[df[\"reviews\"].notnull()]        # Drop NaN\n",
    "df = df[df[\"reviews\"] != \"\"]            # Drop empty strings\n",
    "df = df[df[\"reviews\"].str.len() > 1]    # Drop too short\n",
    "\n",
    "print(\"✅ Cleaned reviews:\", len(df))\n",
    "print(\"Example:\", df[\"reviews\"].iloc[0])\n"
   ]
  },
  {
   "cell_type": "code",
   "execution_count": 26,
   "id": "34568607",
   "metadata": {},
   "outputs": [],
   "source": [
    "import os\n",
    "\n",
    "# Create the folder if it doesn't exist\n",
    "os.makedirs(\"backend/data\", exist_ok=True)\n"
   ]
  },
  {
   "cell_type": "code",
   "execution_count": 27,
   "id": "fd33ad84",
   "metadata": {},
   "outputs": [
    {
     "name": "stdout",
     "output_type": "stream",
     "text": [
      "✅ Vectorization complete and files saved.\n"
     ]
    }
   ],
   "source": [
    "from sklearn.feature_extraction.text import TfidfVectorizer\n",
    "import joblib\n",
    "\n",
    "vectorizer = TfidfVectorizer(max_features=100)\n",
    "X = vectorizer.fit_transform(df[\"reviews\"])  # This should now work\n",
    "\n",
    "joblib.dump(X, \"backend/data/vectorized_data.pkl\")\n",
    "joblib.dump(vectorizer, \"backend/data/tfidf_vectorizer.pkl\")\n",
    "\n",
    "print(\"✅ Vectorization complete and files saved.\")\n"
   ]
  },
  {
   "cell_type": "code",
   "execution_count": 28,
   "id": "3dd2ee0d",
   "metadata": {},
   "outputs": [
    {
     "name": "stdout",
     "output_type": "stream",
     "text": [
      "✅ Vectorizer vocabulary size: 100\n",
      "✅ Vectorized matrix shape: (5714, 100)\n"
     ]
    }
   ],
   "source": [
    "import joblib\n",
    "\n",
    "# Load the vectorizer and vectorized data\n",
    "loaded_vectorizer = joblib.load(\"backend/data/tfidf_vectorizer.pkl\")\n",
    "X_loaded = joblib.load(\"backend/data/vectorized_data.pkl\")\n",
    "\n",
    "# Inspect shapes\n",
    "print(\"✅ Vectorizer vocabulary size:\", len(loaded_vectorizer.vocabulary_))\n",
    "print(\"✅ Vectorized matrix shape:\", X_loaded.shape)\n"
   ]
  }
 ],
 "metadata": {
  "kernelspec": {
   "display_name": ".venv",
   "language": "python",
   "name": "python3"
  },
  "language_info": {
   "codemirror_mode": {
    "name": "ipython",
    "version": 3
   },
   "file_extension": ".py",
   "mimetype": "text/x-python",
   "name": "python",
   "nbconvert_exporter": "python",
   "pygments_lexer": "ipython3",
   "version": "3.13.4"
  }
 },
 "nbformat": 4,
 "nbformat_minor": 5
}
