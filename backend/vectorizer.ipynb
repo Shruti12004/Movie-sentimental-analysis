{
 "cells": [
  {
   "cell_type": "code",
   "execution_count": 1,
   "id": "539d3e84",
   "metadata": {},
   "outputs": [],
   "source": [
    "import pandas as pd\n",
    "from sklearn.feature_extraction.text import TfidfVectorizer\n",
    "import joblib\n",
    "import os\n"
   ]
  },
  {
   "cell_type": "code",
   "execution_count": 2,
   "id": "b98ed327",
   "metadata": {},
   "outputs": [],
   "source": [
    "input_path = \"data/cleaned_reviews.csv\"\n",
    "output_matrix_path = \"models/vectorized_data.pkl\"\n",
    "output_vectorizer_path = \"models/tfidf_vectorizer.pkl\"\n"
   ]
  },
  {
   "cell_type": "code",
   "execution_count": 3,
   "id": "fc9faf2b",
   "metadata": {},
   "outputs": [
    {
     "name": "stdout",
     "output_type": "stream",
     "text": [
      "Original columns: ['cleaned_review', 'sentiment']\n",
      " Number of rows: 50000\n"
     ]
    },
    {
     "data": {
      "text/html": [
       "<div>\n",
       "<style scoped>\n",
       "    .dataframe tbody tr th:only-of-type {\n",
       "        vertical-align: middle;\n",
       "    }\n",
       "\n",
       "    .dataframe tbody tr th {\n",
       "        vertical-align: top;\n",
       "    }\n",
       "\n",
       "    .dataframe thead th {\n",
       "        text-align: right;\n",
       "    }\n",
       "</style>\n",
       "<table border=\"1\" class=\"dataframe\">\n",
       "  <thead>\n",
       "    <tr style=\"text-align: right;\">\n",
       "      <th></th>\n",
       "      <th>cleaned_review</th>\n",
       "      <th>sentiment</th>\n",
       "    </tr>\n",
       "  </thead>\n",
       "  <tbody>\n",
       "    <tr>\n",
       "      <th>0</th>\n",
       "      <td>one other reviewers has mentioned after watchi...</td>\n",
       "      <td>1</td>\n",
       "    </tr>\n",
       "    <tr>\n",
       "      <th>1</th>\n",
       "      <td>wonderful little production filming technique ...</td>\n",
       "      <td>1</td>\n",
       "    </tr>\n",
       "    <tr>\n",
       "      <th>2</th>\n",
       "      <td>i thought wonderful way spend time too hot sum...</td>\n",
       "      <td>1</td>\n",
       "    </tr>\n",
       "    <tr>\n",
       "      <th>3</th>\n",
       "      <td>basically theres family where little boy jake ...</td>\n",
       "      <td>0</td>\n",
       "    </tr>\n",
       "    <tr>\n",
       "      <th>4</th>\n",
       "      <td>petter matteis love time money visually stunni...</td>\n",
       "      <td>1</td>\n",
       "    </tr>\n",
       "  </tbody>\n",
       "</table>\n",
       "</div>"
      ],
      "text/plain": [
       "                                      cleaned_review  sentiment\n",
       "0  one other reviewers has mentioned after watchi...          1\n",
       "1  wonderful little production filming technique ...          1\n",
       "2  i thought wonderful way spend time too hot sum...          1\n",
       "3  basically theres family where little boy jake ...          0\n",
       "4  petter matteis love time money visually stunni...          1"
      ]
     },
     "metadata": {},
     "output_type": "display_data"
    }
   ],
   "source": [
    "df = pd.read_csv(input_path)\n",
    "print(\"Original columns:\", df.columns.tolist())\n",
    "print(\" Number of rows:\", len(df))\n",
    "display(df.head())\n"
   ]
  },
  {
   "cell_type": "code",
   "execution_count": 6,
   "id": "fd33ad84",
   "metadata": {},
   "outputs": [
    {
     "name": "stdout",
     "output_type": "stream",
     "text": [
      "✅ Vectorization complete and files saved.\n"
     ]
    }
   ],
   "source": [
    "from sklearn.feature_extraction.text import TfidfVectorizer\n",
    "import joblib\n",
    "\n",
    "vectorizer = TfidfVectorizer(max_features=5000, ngram_range=(1,2))  \n",
    "X = vectorizer.fit_transform(df[\"cleaned_review\"])  # This should now work\n",
    "\n",
    "joblib.dump(X, \"models/vectorized_data.pkl\")\n",
    "joblib.dump(vectorizer, \"models/tfidf_vectorizer.pkl\")\n",
    "\n",
    "print(\"✅ Vectorization complete and files saved.\")\n"
   ]
  },
  {
   "cell_type": "code",
   "execution_count": 8,
   "id": "3dd2ee0d",
   "metadata": {},
   "outputs": [
    {
     "name": "stdout",
     "output_type": "stream",
     "text": [
      "✅ Vectorizer vocabulary size: 5000\n",
      "✅ Vectorized matrix shape: (50000, 5000)\n"
     ]
    }
   ],
   "source": [
    "\n",
    "loaded_vectorizer = joblib.load(\"models/tfidf_vectorizer.pkl\")\n",
    "X_loaded = joblib.load(\"models/vectorized_data.pkl\")\n",
    "\n",
    "# Inspect shapes\n",
    "print(\"✅ Vectorizer vocabulary size:\", len(loaded_vectorizer.vocabulary_))\n",
    "print(\"✅ Vectorized matrix shape:\", X_loaded.shape)\n"
   ]
  }
 ],
 "metadata": {
  "kernelspec": {
   "display_name": ".venv",
   "language": "python",
   "name": "python3"
  },
  "language_info": {
   "codemirror_mode": {
    "name": "ipython",
    "version": 3
   },
   "file_extension": ".py",
   "mimetype": "text/x-python",
   "name": "python",
   "nbconvert_exporter": "python",
   "pygments_lexer": "ipython3",
   "version": "3.12.6"
  }
 },
 "nbformat": 4,
 "nbformat_minor": 5
}
